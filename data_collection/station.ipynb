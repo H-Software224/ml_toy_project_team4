{
  "nbformat": 4,
  "nbformat_minor": 0,
  "metadata": {
    "colab": {
      "provenance": []
    },
    "kernelspec": {
      "name": "python3",
      "display_name": "Python 3"
    },
    "language_info": {
      "name": "python"
    }
  },
  "cells": [
    {
      "cell_type": "code",
      "source": [
        "from geopy.distance import great_circle\n",
        "from math import sin, cos, sqrt, atan2, radians\n",
        "import pandas as pd\n",
        "import numpy as np"
      ],
      "metadata": {
        "id": "hh8AbzZVXxDB"
      },
      "execution_count": 2,
      "outputs": []
    },
    {
      "cell_type": "code",
      "execution_count": 3,
      "metadata": {
        "id": "qHX95Sr8VNDD"
      },
      "outputs": [],
      "source": [
        "# 중심 좌표로부터 특정 반경 안에 있는 지하철역 구하기 위한 클래스 정의\n",
        "\n",
        "class CountNearThings:\n",
        "  def __init__(self,df,lat,lon,dist=1):\n",
        "    \"\"\"\n",
        "        df: 데이터 프레임\n",
        "        lat: 중심 위도\n",
        "        lon: 중심 경도\n",
        "        dist: 기준 거리(km)\"\"\"\n",
        "    self.df = df\n",
        "    self.lat = lat\n",
        "    self.lon = lon\n",
        "    self.dist = dist\n",
        "\n",
        "  def filter_by_rectangle(self):\n",
        "      \"\"\"\n",
        "      사각 범위 내 데이터 필터링\n",
        "      \"\"\"\n",
        "      lat_min = self.lat - 0.01 * self.dist\n",
        "      lat_max = self.lat + 0.01 * self.dist\n",
        "\n",
        "      lon_min = self.lon - 0.015 * self.dist\n",
        "      lon_max = self.lon + 0.015 * self.dist\n",
        "\n",
        "      self.points = [[lat_min, lon_min], [lat_max, lon_max]]\n",
        "\n",
        "      result = self.df.loc[\n",
        "          (self.df['lat'] > lat_min) &\n",
        "          (self.df['lat'] < lat_max) &\n",
        "          (self.df['lon'] > lon_min) &\n",
        "          (self.df['lon'] < lon_max)\n",
        "      ]\n",
        "      result.index = range(len(result))\n",
        "\n",
        "      return result\n",
        "\n",
        "  def filter_by_radius(self, radius):\n",
        "    \"\"\"\n",
        "    반경 범위 내 데이터 필터링\n",
        "    \"\"\"\n",
        "  # 사각 범위 내 데이터 필터링\n",
        "    tmp = self.filter_by_rectangle()\n",
        "\n",
        "    # 기준 좌표 포인트\n",
        "    center = (self.lat, self.lon)\n",
        "\n",
        "    result = pd.DataFrame()\n",
        "    for index, row in tmp.iterrows():\n",
        "        # 개별 좌표 포인트\n",
        "        point = (row['lat'], row['lon'])\n",
        "        d = great_circle(center, point).kilometers\n",
        "        if d <= radius:\n",
        "            result = pd.concat([result, tmp.iloc[index, :].to_frame().T])\n",
        "\n",
        "    result.index = range(len(result))\n",
        "\n",
        "    return result"
      ]
    },
    {
      "cell_type": "code",
      "source": [
        "# 지하철역 파일 가져오기, 중복 지하철역 제거\n",
        "\n",
        "df = pd.read_csv('subway_location.csv',encoding='cp949')\n",
        "df = df.rename(columns={'경도': 'lon', '위도': 'lat'})\n",
        "df = df.drop_duplicates(['역명'])"
      ],
      "metadata": {
        "id": "03hKt2QiVoSj"
      },
      "execution_count": 5,
      "outputs": []
    },
    {
      "cell_type": "code",
      "source": [
        "# 위도, 경도 기반 직선 거리 계산 함수 정의\n",
        "\n",
        "def mydistance(a1,b1,a2,b2):\n",
        "\n",
        "  R = 6373.0\n",
        "\n",
        "  x1 = radians(a1)\n",
        "  y1 = radians(b1)\n",
        "  x2 = radians(a2)\n",
        "  y2 = radians(b2)\n",
        "  dlon = x2 - x1\n",
        "  dlat = y2 - y1\n",
        "  a = sin(dlat / 2)**2 + cos(y1) * cos(y2) * sin(dlon / 2)**2\n",
        "  c = 2 * atan2(sqrt(a), sqrt(1 - a))\n",
        "\n",
        "  return R * c"
      ],
      "metadata": {
        "id": "MTUIPEalVy8k"
      },
      "execution_count": 6,
      "outputs": []
    },
    {
      "cell_type": "code",
      "source": [
        "# 중심 좌표와 지하철역 거리를 기반으로 가중치 부여 후 합계를 계산해주는 함수 정의\n",
        "\n",
        "def weight_sum(distance_list):\n",
        "\n",
        "  weight_list = []\n",
        "\n",
        "  for k in distance_list:\n",
        "\n",
        "    if k <= 0.4:\n",
        "      weight_list.append(3.0)\n",
        "\n",
        "    elif k > 0.4 and k <= 0.8:\n",
        "     weight_list.append(2.5)\n",
        "\n",
        "    elif k >0.8 and k <= 1.2:\n",
        "      weight_list.append(2.0)\n",
        "\n",
        "    elif 1.2 > k and k <= 1.6:\n",
        "     weight_list.append(1.5)\n",
        "\n",
        "    else:\n",
        "     weight_list.append(1.0)\n",
        "\n",
        "  return sum(weight_list)"
      ],
      "metadata": {
        "id": "xw8ojS64WTGX"
      },
      "execution_count": 7,
      "outputs": []
    },
    {
      "cell_type": "code",
      "source": [
        "# 예시 코드\n",
        "\n",
        "lat = [37.51429, 37.562832, 37.638951]\n",
        "lon = [127.0621, 127.007815, 127.024745]\n",
        "\n",
        "station = []\n",
        "\n",
        "for i in range(len(lat)):\n",
        "\n",
        "  cnt = CountNearThings(df,lat[i], lon[i], 2)\n",
        "\n",
        "  result_radius = cnt.filter_by_radius(2)\n",
        "\n",
        "  distance_list = []\n",
        "\n",
        "  for j in range(len(result_radius)):\n",
        "    distance_list.append(mydistance(lat[i],\n",
        "                                    lon[i],\n",
        "                                    result_radius.iloc[j][result_radius.columns.get_loc('lat')],\n",
        "                                    result_radius.iloc[j][result_radius.columns.get_loc('lon')]))\n",
        "\n",
        "  station.append(weight_sum(distance_list))\n",
        "\n",
        "print(station)"
      ],
      "metadata": {
        "colab": {
          "base_uri": "https://localhost:8080/"
        },
        "id": "-B1tgeMnWgzY",
        "outputId": "138ce331-3d75-468e-d377-0d84049d3fd8"
      },
      "execution_count": 8,
      "outputs": [
        {
          "output_type": "stream",
          "name": "stdout",
          "text": [
            "[9.0, 30.0, 6.0]\n"
          ]
        }
      ]
    }
  ]
}